{
 "metadata": {
  "language_info": {
   "codemirror_mode": {
    "name": "ipython",
    "version": 3
   },
   "file_extension": ".py",
   "mimetype": "text/x-python",
   "name": "python",
   "nbconvert_exporter": "python",
   "pygments_lexer": "ipython3",
   "version": "3.8.5-final"
  },
  "orig_nbformat": 2,
  "kernelspec": {
   "name": "python3",
   "display_name": "Python 3",
   "language": "python"
  }
 },
 "nbformat": 4,
 "nbformat_minor": 2,
 "cells": [
  {
   "cell_type": "code",
   "execution_count": 1,
   "metadata": {},
   "outputs": [],
   "source": [
    "data = [\n",
    "    ['woof', 1],\n",
    "    ['bark', 1],\n",
    "    ['ruff', 1],\n",
    "    ['bowwow', 1],\n",
    "    ['roar', 0],\n",
    "    ['bah', 0],\n",
    "    ['meow', 0],\n",
    "    ['ribbit', 0],\n",
    "    ['moo', 0],\n",
    "    ['yip', 0],\n",
    "    ['pika', 0],\n",
    "    ['neigh', 0],\n",
    "]"
   ]
  },
  {
   "cell_type": "code",
   "execution_count": 2,
   "metadata": {},
   "outputs": [],
   "source": [
    "x = []\n",
    "y = []\n",
    "\n",
    "for i in data:\n",
    "    x.append(i[0])\n",
    "    y.append(i[1])\n",
    "    "
   ]
  },
  {
   "cell_type": "code",
   "execution_count": 3,
   "metadata": {},
   "outputs": [],
   "source": [
    "from sklearn.feature_extraction.text import CountVectorizer\n",
    "\n",
    "vectorizer = CountVectorizer()\n",
    "x_vectorized = vectorizer.fit_transform(x)"
   ]
  },
  {
   "cell_type": "code",
   "execution_count": 4,
   "metadata": {},
   "outputs": [
    {
     "output_type": "execute_result",
     "data": {
      "text/plain": [
       "LinearRegression()"
      ]
     },
     "metadata": {},
     "execution_count": 4
    }
   ],
   "source": [
    "# Train a linear regression\n",
    "from sklearn.linear_model import LinearRegression\n",
    "\n",
    "regressor = LinearRegression()\n",
    "regressor.fit(x_vectorized, y)"
   ]
  },
  {
   "cell_type": "code",
   "execution_count": 6,
   "metadata": {},
   "outputs": [
    {
     "output_type": "stream",
     "name": "stdout",
     "text": [
      "[1.]\n[-2.22044605e-16]\n[-2.22044605e-16]\n"
     ]
    }
   ],
   "source": [
    "# Test a few examples\n",
    "test_feature = vectorizer.transform(['woof'])\n",
    "print(regressor.predict(test_feature))\n",
    "\n",
    "test_feature = vectorizer.transform(['ribbit'])\n",
    "print(regressor.predict(test_feature))\n",
    "\n",
    "test_feature = vectorizer.transform(['meow'])\n",
    "print(regressor.predict(test_feature))"
   ]
  },
  {
   "cell_type": "code",
   "execution_count": 10,
   "metadata": {},
   "outputs": [],
   "source": [
    "# pickle both the model and the regressor which we'll need later\n",
    "\n",
    "import pickle\n",
    "\n",
    "pickl = {\n",
    "    'vectorizer': vectorizer,\n",
    "    'regressor': regressor\n",
    "}\n",
    "\n",
    "pickle.dump(pickl, open('api/predictor/models/models' + \".p\", \"wb\"))"
   ]
  },
  {
   "cell_type": "code",
   "execution_count": null,
   "metadata": {},
   "outputs": [],
   "source": []
  }
 ]
}